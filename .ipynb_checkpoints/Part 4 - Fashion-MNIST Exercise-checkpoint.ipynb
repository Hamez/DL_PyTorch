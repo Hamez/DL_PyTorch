{
 "cells": [
  {
   "cell_type": "markdown",
   "metadata": {},
   "source": [
    "# Classifying Fashion-MNIST\n",
    "\n",
    "Now it's your turn to build and train a neural network. You'll be using the [Fashion-MNIST dataset](https://github.com/zalandoresearch/fashion-mnist), a drop-in replacement for the MNIST dataset. MNIST is actually quite trivial with neural networks where you can easily achieve better than 97% accuracy. Fashion-MNIST is a set of 28x28 greyscale images of clothes. It's more complex than MNIST, so it's a better representation of the actual performance of your network, and a better representation of datasets you'll use in the real world.\n",
    "\n",
    "<img src='assets/fashion-mnist-sprite.png' width=500px>\n",
    "\n",
    "In this notebook, you'll build your own neural network. For the most part, you could just copy and paste the code from Part 3, but you wouldn't be learning. It's important for you to write the code yourself and get it to work. Feel free to consult the previous notebook though as you work through this.\n",
    "\n",
    "First off, let's load the dataset through torchvision."
   ]
  },
  {
   "cell_type": "code",
   "execution_count": 1,
   "metadata": {},
   "outputs": [
    {
     "name": "stdout",
     "output_type": "stream",
     "text": [
      "Downloading http://fashion-mnist.s3-website.eu-central-1.amazonaws.com/train-images-idx3-ubyte.gz\n",
      "Downloading http://fashion-mnist.s3-website.eu-central-1.amazonaws.com/train-labels-idx1-ubyte.gz\n",
      "Downloading http://fashion-mnist.s3-website.eu-central-1.amazonaws.com/t10k-images-idx3-ubyte.gz\n",
      "Downloading http://fashion-mnist.s3-website.eu-central-1.amazonaws.com/t10k-labels-idx1-ubyte.gz\n",
      "Processing...\n",
      "Done!\n"
     ]
    }
   ],
   "source": [
    "import torch\n",
    "from torchvision import datasets, transforms\n",
    "import helper\n",
    "\n",
    "# Define a transform to normalize the data\n",
    "transform = transforms.Compose([transforms.ToTensor(),\n",
    "                                transforms.Normalize((0.5, 0.5, 0.5), (0.5, 0.5, 0.5))])\n",
    "# Download and load the training data\n",
    "trainset = datasets.FashionMNIST('F_MNIST_data/', download=True, train=True, transform=transform)\n",
    "trainloader = torch.utils.data.DataLoader(trainset, batch_size=64, shuffle=True)\n",
    "\n",
    "# Download and load the test data\n",
    "testset = datasets.FashionMNIST('F_MNIST_data/', download=True, train=False, transform=transform)\n",
    "testloader = torch.utils.data.DataLoader(testset, batch_size=64, shuffle=True)"
   ]
  },
  {
   "cell_type": "markdown",
   "metadata": {},
   "source": [
    "Here we can see one of the images."
   ]
  },
  {
   "cell_type": "code",
   "execution_count": 2,
   "metadata": {},
   "outputs": [
    {
     "data": {
      "image/png": "[encoded data removed]",
      "text/plain": [
       "<Figure size 432x288 with 1 Axes>"
      ]
     },
     "metadata": {},
     "output_type": "display_data"
    }
   ],
   "source": [
    "image, label = next(iter(trainloader))\n",
    "helper.imshow(image[0,:]);"
   ]
  },
  {
   "cell_type": "markdown",
   "metadata": {},
   "source": [
    "With the data loaded, it's time to import the necessary packages."
   ]
  },
  {
   "cell_type": "code",
   "execution_count": 6,
   "metadata": {},
   "outputs": [],
   "source": [
    "%matplotlib inline\n",
    "%config InlineBackend.figure_format = 'retina'\n",
    "\n",
    "import matplotlib.pyplot as plt\n",
    "import numpy as np\n",
    "import time\n",
    "\n",
    "import torch\n",
    "from torch import nn\n",
    "from torch import optim\n",
    "import torch.nn.functional as F\n",
    "from torchvision import datasets, transforms\n",
    "\n",
    "import helper\n",
    "from collections import OrderedDict"
   ]
  },
  {
   "cell_type": "markdown",
   "metadata": {},
   "source": [
    "## Building the network\n",
    "\n",
    "Here you should define your network. As with MNIST, each image is 28x28 which is a total of 784 pixels, and there are 10 classes. You should include at least one hidden layer. We suggest you use ReLU activations for the layers and to return the logits from the forward pass. It's up to you how many layers you add and the size of those layers."
   ]
  },
  {
   "cell_type": "code",
   "execution_count": 28,
   "metadata": {},
   "outputs": [],
   "source": [
    "# TODO: Define your network architecture here\n",
    "input_size = 784\n",
    "hidden_sizes = [256, 128, 64, 32]\n",
    "output_size = 10\n",
    "\n",
    "# Build a feed-forward network\n",
    "model = nn.Sequential(OrderedDict([\n",
    "                      ('fc1', nn.Linear(input_size, hidden_sizes[0])),\n",
    "                      ('relu1', nn.ReLU()),\n",
    "                      ('fc2', nn.Linear(hidden_sizes[0], hidden_sizes[1])),\n",
    "                      ('relu2', nn.ReLU()),\n",
    "                      ('fc3', nn.Linear(hidden_sizes[1], hidden_sizes[2])),\n",
    "                      ('relu3', nn.ReLU()),\n",
    "                      ('fc4', nn.Linear(hidden_sizes[2], hidden_sizes[3])),\n",
    "                      ('relu4', nn.ReLU()),\n",
    "                      ('logits', nn.Linear(hidden_sizes[3], output_size))]))\n",
    "\n",
    "criterion = nn.CrossEntropyLoss()\n",
    "optimizer = optim.SGD(model.parameters(), lr=0.005)"
   ]
  },
  {
   "cell_type": "code",
   "execution_count": 24,
   "metadata": {},
   "outputs": [
    {
     "name": "stdout",
     "output_type": "stream",
     "text": [
      "Initial weights -  Parameter containing:\n",
      "tensor([[-0.0314,  0.0131,  0.0080,  ...,  0.0235, -0.0319, -0.0191],\n",
      "        [-0.0213, -0.0357, -0.0112,  ..., -0.0118,  0.0240, -0.0168],\n",
      "        [-0.0072,  0.0163, -0.0042,  ...,  0.0298,  0.0096,  0.0273],\n",
      "        ...,\n",
      "        [-0.0021, -0.0329,  0.0097,  ..., -0.0096, -0.0333,  0.0204],\n",
      "        [ 0.0036, -0.0106, -0.0194,  ..., -0.0192, -0.0210,  0.0321],\n",
      "        [ 0.0187,  0.0148,  0.0143,  ..., -0.0168, -0.0243, -0.0109]],\n",
      "       requires_grad=True)\n",
      "Gradient - tensor([[-0.0001, -0.0001, -0.0001,  ..., -0.0001, -0.0001, -0.0001],\n",
      "        [ 0.0001,  0.0001,  0.0001,  ...,  0.0001,  0.0001,  0.0001],\n",
      "        [-0.0002, -0.0002, -0.0002,  ..., -0.0002, -0.0002, -0.0002],\n",
      "        ...,\n",
      "        [ 0.0001,  0.0001,  0.0001,  ...,  0.0001,  0.0001,  0.0001],\n",
      "        [ 0.0001,  0.0001,  0.0001,  ...,  0.0001,  0.0001,  0.0001],\n",
      "        [-0.0005, -0.0005, -0.0005,  ..., -0.0005, -0.0005, -0.0005]])\n",
      "Updated weights -  Parameter containing:\n",
      "tensor([[-0.0314,  0.0131,  0.0080,  ...,  0.0235, -0.0319, -0.0191],\n",
      "        [-0.0213, -0.0357, -0.0112,  ..., -0.0118,  0.0240, -0.0168],\n",
      "        [-0.0071,  0.0163, -0.0042,  ...,  0.0298,  0.0096,  0.0273],\n",
      "        ...,\n",
      "        [-0.0021, -0.0329,  0.0097,  ..., -0.0096, -0.0333,  0.0204],\n",
      "        [ 0.0036, -0.0106, -0.0194,  ..., -0.0192, -0.0210,  0.0321],\n",
      "        [ 0.0187,  0.0148,  0.0143,  ..., -0.0168, -0.0243, -0.0109]],\n",
      "       requires_grad=True)\n"
     ]
    }
   ],
   "source": [
    "print('Initial weights - ', model.fc1.weight)\n",
    "\n",
    "images, labels = next(iter(trainloader))\n",
    "\n",
    "images.resize_(64, 784)\n",
    "\n",
    "# Clear the gradients, do this because gradients are accumulated\n",
    "optimizer.zero_grad()\n",
    "\n",
    "# Forward pass, then backward pass, then update weights\n",
    "output = model.forward(images)\n",
    "loss = criterion(output, labels)\n",
    "loss.backward()\n",
    "print('Gradient -', model.fc1.weight.grad)\n",
    "optimizer.step()\n",
    "print('Updated weights - ', model.fc1.weight)"
   ]
  },
  {
   "cell_type": "markdown",
   "metadata": {},
   "source": [
    "# Train the network\n",
    "\n",
    "Now you should create your network and train it. First you'll want to define [the criterion](http://pytorch.org/docs/master/nn.html#loss-functions) ( something like `nn.CrossEntropyLoss`) and [the optimizer](http://pytorch.org/docs/master/optim.html) (typically `optim.SGD` or `optim.Adam`).\n",
    "\n",
    "Then write the training code. Remember the training pass is a fairly straightforward process:\n",
    "\n",
    "* Make a forward pass through the network to get the logits \n",
    "* Use the logits to calculate the loss\n",
    "* Perform a backward pass through the network with `loss.backward()` to calculate the gradients\n",
    "* Take a step with the optimizer to update the weights\n",
    "\n",
    "By adjusting the hyperparameters (hidden units, learning rate, etc), you should be able to get the training loss below 0.4."
   ]
  },
  {
   "cell_type": "code",
   "execution_count": 32,
   "metadata": {},
   "outputs": [],
   "source": [
    "# TODO: Create the network, define the criterion and optimizer\n",
    "optimizer = optim.SGD(model.parameters(), lr=0.075)\n"
   ]
  },
  {
   "cell_type": "code",
   "execution_count": 33,
   "metadata": {},
   "outputs": [
    {
     "data": {
      "text/plain": [
       "tensor([[-0.0039,  0.0054, -0.0119,  ..., -0.0046, -0.0113,  0.0107],\n",
       "        [ 0.0066,  0.0090,  0.0054,  ..., -0.0046,  0.0024,  0.0035],\n",
       "        [ 0.0092, -0.0169, -0.0220,  ...,  0.0079,  0.0010, -0.0073],\n",
       "        ...,\n",
       "        [ 0.0096, -0.0002,  0.0010,  ...,  0.0073, -0.0062,  0.0126],\n",
       "        [-0.0055,  0.0071, -0.0039,  ..., -0.0090, -0.0001,  0.0008],\n",
       "        [-0.0040, -0.0102, -0.0028,  ...,  0.0087, -0.0074, -0.0101]])"
      ]
     },
     "execution_count": 33,
     "metadata": {},
     "output_type": "execute_result"
    }
   ],
   "source": [
    "model.fc1.weight.data.normal_(std=0.01)\n",
    "model.fc2.weight.data.normal_(std=0.01)\n",
    "model.fc3.weight.data.normal_(std=0.01)\n",
    "model.fc3.weight.data.normal_(std=0.01)"
   ]
  },
  {
   "cell_type": "code",
   "execution_count": 34,
   "metadata": {},
   "outputs": [
    {
     "name": "stdout",
     "output_type": "stream",
     "text": [
      "Epoch: 1/8...  Loss: 2.2941\n",
      "Epoch: 1/8...  Loss: 1.8290\n",
      "Epoch: 1/8...  Loss: 1.3616\n",
      "Epoch: 1/8...  Loss: 1.1894\n",
      "Epoch: 1/8...  Loss: 1.0700\n",
      "Epoch: 1/8...  Loss: 0.9629\n",
      "Epoch: 1/8...  Loss: 0.9436\n",
      "Epoch: 1/8...  Loss: 0.8394\n",
      "Epoch: 1/8...  Loss: 0.7714\n",
      "Epoch: 1/8...  Loss: 0.7510\n",
      "Epoch: 1/8...  Loss: 0.7464\n",
      "Epoch: 1/8...  Loss: 0.7003\n",
      "Epoch: 1/8...  Loss: 0.6947\n",
      "Epoch: 1/8...  Loss: 0.6756\n",
      "Epoch: 1/8...  Loss: 0.6294\n",
      "Epoch: 1/8...  Loss: 0.6289\n",
      "Epoch: 1/8...  Loss: 0.6069\n",
      "Epoch: 1/8...  Loss: 0.5933\n",
      "Epoch: 1/8...  Loss: 0.5833\n",
      "Epoch: 1/8...  Loss: 0.5631\n",
      "Epoch: 1/8...  Loss: 0.5490\n",
      "Epoch: 1/8...  Loss: 0.5139\n",
      "Epoch: 1/8...  Loss: 0.5538\n",
      "Epoch: 2/8...  Loss: 0.3046\n",
      "Epoch: 2/8...  Loss: 0.5432\n",
      "Epoch: 2/8...  Loss: 0.4926\n",
      "Epoch: 2/8...  Loss: 0.5303\n",
      "Epoch: 2/8...  Loss: 0.5000\n",
      "Epoch: 2/8...  Loss: 0.4735\n",
      "Epoch: 2/8...  Loss: 0.5451\n",
      "Epoch: 2/8...  Loss: 0.4882\n",
      "Epoch: 2/8...  Loss: 0.4781\n",
      "Epoch: 2/8...  Loss: 0.4387\n",
      "Epoch: 2/8...  Loss: 0.4731\n",
      "Epoch: 2/8...  Loss: 0.4754\n",
      "Epoch: 2/8...  Loss: 0.4475\n",
      "Epoch: 2/8...  Loss: 0.4589\n",
      "Epoch: 2/8...  Loss: 0.4750\n",
      "Epoch: 2/8...  Loss: 0.4770\n",
      "Epoch: 2/8...  Loss: 0.4872\n",
      "Epoch: 2/8...  Loss: 0.4836\n",
      "Epoch: 2/8...  Loss: 0.4602\n",
      "Epoch: 2/8...  Loss: 0.4721\n",
      "Epoch: 2/8...  Loss: 0.4364\n",
      "Epoch: 2/8...  Loss: 0.4201\n",
      "Epoch: 2/8...  Loss: 0.4510\n",
      "Epoch: 3/8...  Loss: 0.0382\n",
      "Epoch: 3/8...  Loss: 0.3878\n",
      "Epoch: 3/8...  Loss: 0.3936\n",
      "Epoch: 3/8...  Loss: 0.4279\n",
      "Epoch: 3/8...  Loss: 0.4171\n",
      "Epoch: 3/8...  Loss: 0.4161\n",
      "Epoch: 3/8...  Loss: 0.4010\n",
      "Epoch: 3/8...  Loss: 0.3818\n",
      "Epoch: 3/8...  Loss: 0.4225\n",
      "Epoch: 3/8...  Loss: 0.4269\n",
      "Epoch: 3/8...  Loss: 0.4067\n",
      "Epoch: 3/8...  Loss: 0.3915\n",
      "Epoch: 3/8...  Loss: 0.4010\n",
      "Epoch: 3/8...  Loss: 0.4183\n",
      "Epoch: 3/8...  Loss: 0.4345\n",
      "Epoch: 3/8...  Loss: 0.4040\n",
      "Epoch: 3/8...  Loss: 0.4279\n",
      "Epoch: 3/8...  Loss: 0.3872\n",
      "Epoch: 3/8...  Loss: 0.4153\n",
      "Epoch: 3/8...  Loss: 0.4213\n",
      "Epoch: 3/8...  Loss: 0.3696\n",
      "Epoch: 3/8...  Loss: 0.4023\n",
      "Epoch: 3/8...  Loss: 0.4184\n",
      "Epoch: 3/8...  Loss: 0.4091\n",
      "Epoch: 4/8...  Loss: 0.2401\n",
      "Epoch: 4/8...  Loss: 0.3895\n",
      "Epoch: 4/8...  Loss: 0.3843\n",
      "Epoch: 4/8...  Loss: 0.3889\n",
      "Epoch: 4/8...  Loss: 0.3800\n",
      "Epoch: 4/8...  Loss: 0.3816\n",
      "Epoch: 4/8...  Loss: 0.3639\n",
      "Epoch: 4/8...  Loss: 0.3678\n",
      "Epoch: 4/8...  Loss: 0.3719\n",
      "Epoch: 4/8...  Loss: 0.3436\n",
      "Epoch: 4/8...  Loss: 0.3620\n",
      "Epoch: 4/8...  Loss: 0.3762\n",
      "Epoch: 4/8...  Loss: 0.3594\n",
      "Epoch: 4/8...  Loss: 0.3880\n",
      "Epoch: 4/8...  Loss: 0.3820\n",
      "Epoch: 4/8...  Loss: 0.3959\n",
      "Epoch: 4/8...  Loss: 0.3412\n",
      "Epoch: 4/8...  Loss: 0.3603\n",
      "Epoch: 4/8...  Loss: 0.3601\n",
      "Epoch: 4/8...  Loss: 0.3527\n",
      "Epoch: 4/8...  Loss: 0.3831\n",
      "Epoch: 4/8...  Loss: 0.3797\n",
      "Epoch: 4/8...  Loss: 0.3787\n",
      "Epoch: 5/8...  Loss: 0.0642\n",
      "Epoch: 5/8...  Loss: 0.3407\n",
      "Epoch: 5/8...  Loss: 0.3406\n",
      "Epoch: 5/8...  Loss: 0.3290\n",
      "Epoch: 5/8...  Loss: 0.3610\n",
      "Epoch: 5/8...  Loss: 0.3738\n",
      "Epoch: 5/8...  Loss: 0.3584\n",
      "Epoch: 5/8...  Loss: 0.3432\n",
      "Epoch: 5/8...  Loss: 0.3358\n",
      "Epoch: 5/8...  Loss: 0.3291\n",
      "Epoch: 5/8...  Loss: 0.3643\n",
      "Epoch: 5/8...  Loss: 0.3428\n",
      "Epoch: 5/8...  Loss: 0.3454\n",
      "Epoch: 5/8...  Loss: 0.3247\n",
      "Epoch: 5/8...  Loss: 0.3655\n",
      "Epoch: 5/8...  Loss: 0.3226\n",
      "Epoch: 5/8...  Loss: 0.3572\n",
      "Epoch: 5/8...  Loss: 0.3520\n",
      "Epoch: 5/8...  Loss: 0.3715\n",
      "Epoch: 5/8...  Loss: 0.3358\n",
      "Epoch: 5/8...  Loss: 0.3431\n",
      "Epoch: 5/8...  Loss: 0.3560\n",
      "Epoch: 5/8...  Loss: 0.3479\n",
      "Epoch: 5/8...  Loss: 0.3079\n",
      "Epoch: 6/8...  Loss: 0.2775\n",
      "Epoch: 6/8...  Loss: 0.3137\n",
      "Epoch: 6/8...  Loss: 0.3265\n",
      "Epoch: 6/8...  Loss: 0.3263\n",
      "Epoch: 6/8...  Loss: 0.3082\n",
      "Epoch: 6/8...  Loss: 0.2955\n",
      "Epoch: 6/8...  Loss: 0.3206\n",
      "Epoch: 6/8...  Loss: 0.3346\n",
      "Epoch: 6/8...  Loss: 0.3480\n",
      "Epoch: 6/8...  Loss: 0.3346\n",
      "Epoch: 6/8...  Loss: 0.3028\n",
      "Epoch: 6/8...  Loss: 0.3178\n",
      "Epoch: 6/8...  Loss: 0.3283\n",
      "Epoch: 6/8...  Loss: 0.3547\n",
      "Epoch: 6/8...  Loss: 0.3284\n",
      "Epoch: 6/8...  Loss: 0.3309\n",
      "Epoch: 6/8...  Loss: 0.3304\n",
      "Epoch: 6/8...  Loss: 0.3228\n",
      "Epoch: 6/8...  Loss: 0.3453\n",
      "Epoch: 6/8...  Loss: 0.3260\n",
      "Epoch: 6/8...  Loss: 0.3188\n",
      "Epoch: 6/8...  Loss: 0.3250\n",
      "Epoch: 6/8...  Loss: 0.3099\n",
      "Epoch: 7/8...  Loss: 0.0919\n",
      "Epoch: 7/8...  Loss: 0.3071\n",
      "Epoch: 7/8...  Loss: 0.2897\n",
      "Epoch: 7/8...  Loss: 0.2930\n",
      "Epoch: 7/8...  Loss: 0.3127\n",
      "Epoch: 7/8...  Loss: 0.3105\n",
      "Epoch: 7/8...  Loss: 0.3375\n",
      "Epoch: 7/8...  Loss: 0.3201\n",
      "Epoch: 7/8...  Loss: 0.2842\n",
      "Epoch: 7/8...  Loss: 0.2976\n",
      "Epoch: 7/8...  Loss: 0.3009\n",
      "Epoch: 7/8...  Loss: 0.2967\n",
      "Epoch: 7/8...  Loss: 0.3167\n",
      "Epoch: 7/8...  Loss: 0.3005\n",
      "Epoch: 7/8...  Loss: 0.3165\n",
      "Epoch: 7/8...  Loss: 0.3238\n",
      "Epoch: 7/8...  Loss: 0.2983\n",
      "Epoch: 7/8...  Loss: 0.3109\n",
      "Epoch: 7/8...  Loss: 0.3169\n",
      "Epoch: 7/8...  Loss: 0.3095\n",
      "Epoch: 7/8...  Loss: 0.3275\n",
      "Epoch: 7/8...  Loss: 0.3086\n",
      "Epoch: 7/8...  Loss: 0.2944\n",
      "Epoch: 7/8...  Loss: 0.2996\n",
      "Epoch: 8/8...  Loss: 0.2381\n",
      "Epoch: 8/8...  Loss: 0.3189\n",
      "Epoch: 8/8...  Loss: 0.2959\n",
      "Epoch: 8/8...  Loss: 0.3134\n",
      "Epoch: 8/8...  Loss: 0.2970\n",
      "Epoch: 8/8...  Loss: 0.2829\n",
      "Epoch: 8/8...  Loss: 0.2873\n",
      "Epoch: 8/8...  Loss: 0.2906\n",
      "Epoch: 8/8...  Loss: 0.2821\n",
      "Epoch: 8/8...  Loss: 0.3102\n",
      "Epoch: 8/8...  Loss: 0.2763\n",
      "Epoch: 8/8...  Loss: 0.3074\n",
      "Epoch: 8/8...  Loss: 0.3070\n",
      "Epoch: 8/8...  Loss: 0.2991\n",
      "Epoch: 8/8...  Loss: 0.2643\n",
      "Epoch: 8/8...  Loss: 0.3004\n",
      "Epoch: 8/8...  Loss: 0.2939\n",
      "Epoch: 8/8...  Loss: 0.2924\n",
      "Epoch: 8/8...  Loss: 0.2989\n",
      "Epoch: 8/8...  Loss: 0.3025\n",
      "Epoch: 8/8...  Loss: 0.3043\n",
      "Epoch: 8/8...  Loss: 0.3143\n",
      "Epoch: 8/8...  Loss: 0.2815\n"
     ]
    }
   ],
   "source": [
    "# TODO: Train the network here\n",
    "epochs = 8\n",
    "print_every = 40\n",
    "steps = 0\n",
    "for e in range(epochs):\n",
    "    running_loss = 0\n",
    "    for images, labels in iter(trainloader):\n",
    "        steps += 1\n",
    "        # Flatten MNIST images into a 784 long vector\n",
    "        images.resize_(images.size()[0], 784)\n",
    "        \n",
    "        optimizer.zero_grad()\n",
    "        \n",
    "        # Forward and backward passes\n",
    "        output = model.forward(images)\n",
    "        loss = criterion(output, labels)\n",
    "        loss.backward()\n",
    "        optimizer.step()\n",
    "        \n",
    "        running_loss += loss.item()\n",
    "        \n",
    "        if steps % print_every == 0:\n",
    "            print(\"Epoch: {}/{}... \".format(e+1, epochs),\n",
    "                  \"Loss: {:.4f}\".format(running_loss/print_every))\n",
    "            \n",
    "            running_loss = 0\n"
   ]
  },
  {
   "cell_type": "code",
   "execution_count": 36,
   "metadata": {},
   "outputs": [
    {
     "name": "stdout",
     "output_type": "stream",
     "text": [
      "tensor(7)\n"
     ]
    },
    {
     "name": "stderr",
     "output_type": "stream",
     "text": [
      "C:\\Users\\jdmcd\\Anaconda3\\lib\\site-packages\\ipykernel_launcher.py:14: UserWarning: Implicit dimension choice for softmax has been deprecated. Change the call to include dim=X as an argument.\n",
      "  \n"
     ]
    },
    {
     "data": {
      "image/png": "[encoded data removed]",
      "text/plain": [
       "<Figure size 432x648 with 2 Axes>"
      ]
     },
     "metadata": {
      "image/png": {
       "height": 204,
       "width": 423
      }
     },
     "output_type": "display_data"
    }
   ],
   "source": [
    "# Test out your network!\n",
    "\n",
    "dataiter = iter(testloader)\n",
    "images, labels = dataiter.next()\n",
    "print(labels[0])\n",
    "img = images[0]\n",
    "# Convert 2D image to 1D vector\n",
    "img = img.resize_(1, 784)\n",
    "\n",
    "with torch.no_grad():\n",
    "    logits = model.forward(img)\n",
    "\n",
    "# TODO: Calculate the class probabilities (softmax) for img\n",
    "ps = F.softmax(logits)\n",
    "\n",
    "# Plot the image and probabilities\n",
    "helper.view_classify(img.resize_(1, 28, 28), ps, version='Fashion')"
   ]
  },
  {
   "cell_type": "markdown",
   "metadata": {},
   "source": [
    "Now that your network is trained, you'll want to save it to disk so you can load it later instead of training it again. Obviously, it's impractical to train a network every time you need one. In practice, you'll train it once, save the model, then reload it for further training or making predictions. In the next part, I'll show you how to save and load trained models."
   ]
  },
  {
   "cell_type": "code",
   "execution_count": null,
   "metadata": {},
   "outputs": [],
   "source": []
  }
 ],
 "metadata": {
  "kernelspec": {
   "display_name": "Python 3",
   "language": "python",
   "name": "python3"
  },
  "language_info": {
   "codemirror_mode": {
    "name": "ipython",
    "version": 3
   },
   "file_extension": ".py",
   "mimetype": "text/x-python",
   "name": "python",
   "nbconvert_exporter": "python",
   "pygments_lexer": "ipython3",
   "version": "3.6.5"
  }
 },
 "nbformat": 4,
 "nbformat_minor": 2
}
