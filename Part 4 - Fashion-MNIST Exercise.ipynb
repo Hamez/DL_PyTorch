{
 "cells": [
  {
   "cell_type": "markdown",
   "metadata": {},
   "source": [
    "# Classifying Fashion-MNIST\n",
    "\n",
    "Now it's your turn to build and train a neural network. You'll be using the [Fashion-MNIST dataset](https://github.com/zalandoresearch/fashion-mnist), a drop-in replacement for the MNIST dataset. MNIST is actually quite trivial with neural networks where you can easily achieve better than 97% accuracy. Fashion-MNIST is a set of 28x28 greyscale images of clothes. It's more complex than MNIST, so it's a better representation of the actual performance of your network, and a better representation of datasets you'll use in the real world.\n",
    "\n",
    "<img src='assets/fashion-mnist-sprite.png' width=500px>\n",
    "\n",
    "In this notebook, you'll build your own neural network. For the most part, you could just copy and paste the code from Part 3, but you wouldn't be learning. It's important for you to write the code yourself and get it to work. Feel free to consult the previous notebook though as you work through this.\n",
    "\n",
    "First off, let's load the dataset through torchvision."
   ]
  },
  {
   "cell_type": "code",
   "execution_count": 1,
   "metadata": {},
   "outputs": [],
   "source": [
    "import torch\n",
    "from torchvision import datasets, transforms\n",
    "import helper\n",
    "\n",
    "# Define a transform to normalize the data\n",
    "transform = transforms.Compose([transforms.ToTensor(),\n",
    "                                transforms.Normalize((0.5, 0.5, 0.5), (0.5, 0.5, 0.5))])\n",
    "# Download and load the training data\n",
    "trainset = datasets.FashionMNIST('F_MNIST_data/', download=True, train=True, transform=transform)\n",
    "trainloader = torch.utils.data.DataLoader(trainset, batch_size=64, shuffle=True)\n",
    "\n",
    "# Download and load the test data\n",
    "testset = datasets.FashionMNIST('F_MNIST_data/', download=True, train=False, transform=transform)\n",
    "testloader = torch.utils.data.DataLoader(testset, batch_size=64, shuffle=True)"
   ]
  },
  {
   "cell_type": "markdown",
   "metadata": {},
   "source": [
    "Here we can see one of the images."
   ]
  },
  {
   "cell_type": "code",
   "execution_count": 2,
   "metadata": {},
   "outputs": [
    {
     "data": {
      "image/png": "[encoded data removed]",
      "text/plain": [
       "<Figure size 432x288 with 1 Axes>"
      ]
     },
     "metadata": {},
     "output_type": "display_data"
    }
   ],
   "source": [
    "image, label = next(iter(trainloader))\n",
    "helper.imshow(image[0,:]);"
   ]
  },
  {
   "cell_type": "markdown",
   "metadata": {},
   "source": [
    "With the data loaded, it's time to import the necessary packages."
   ]
  },
  {
   "cell_type": "code",
   "execution_count": 3,
   "metadata": {},
   "outputs": [],
   "source": [
    "%matplotlib inline\n",
    "%config InlineBackend.figure_format = 'retina'\n",
    "\n",
    "import matplotlib.pyplot as plt\n",
    "import numpy as np\n",
    "import time\n",
    "\n",
    "import torch\n",
    "from torch import nn\n",
    "from torch import optim\n",
    "import torch.nn.functional as F\n",
    "from torchvision import datasets, transforms\n",
    "\n",
    "import helper\n",
    "from collections import OrderedDict"
   ]
  },
  {
   "cell_type": "markdown",
   "metadata": {},
   "source": [
    "## Building the network\n",
    "\n",
    "Here you should define your network. As with MNIST, each image is 28x28 which is a total of 784 pixels, and there are 10 classes. You should include at least one hidden layer. We suggest you use ReLU activations for the layers and to return the logits from the forward pass. It's up to you how many layers you add and the size of those layers."
   ]
  },
  {
   "cell_type": "code",
   "execution_count": 4,
   "metadata": {},
   "outputs": [],
   "source": [
    "# TODO: Define your network architecture here\n",
    "input_size = 784\n",
    "hidden_sizes = [256, 128, 64, 32]\n",
    "output_size = 10\n",
    "\n",
    "# Build a feed-forward network\n",
    "model = nn.Sequential(OrderedDict([\n",
    "                      ('fc1', nn.Linear(input_size, hidden_sizes[0])),\n",
    "                      ('relu1', nn.ReLU()),\n",
    "                      ('fc2', nn.Linear(hidden_sizes[0], hidden_sizes[1])),\n",
    "                      ('relu2', nn.ReLU()),\n",
    "                      ('fc3', nn.Linear(hidden_sizes[1], hidden_sizes[2])),\n",
    "                      ('relu3', nn.ReLU()),\n",
    "                      ('fc4', nn.Linear(hidden_sizes[2], hidden_sizes[3])),\n",
    "                      ('relu4', nn.ReLU()),\n",
    "                      ('logits', nn.Linear(hidden_sizes[3], output_size))]))\n",
    "\n",
    "criterion = nn.CrossEntropyLoss()\n",
    "optimizer = optim.SGD(model.parameters(), lr=0.005)"
   ]
  },
  {
   "cell_type": "code",
   "execution_count": 5,
   "metadata": {},
   "outputs": [
    {
     "name": "stdout",
     "output_type": "stream",
     "text": [
      "Initial weights -  Parameter containing:\n",
      "tensor([[ 0.0064, -0.0215, -0.0141,  ...,  0.0147,  0.0323,  0.0239],\n",
      "        [ 0.0289, -0.0218, -0.0105,  ...,  0.0139, -0.0128, -0.0131],\n",
      "        [ 0.0150, -0.0186, -0.0225,  ...,  0.0180,  0.0054, -0.0242],\n",
      "        ...,\n",
      "        [-0.0294,  0.0351, -0.0192,  ...,  0.0015,  0.0073, -0.0084],\n",
      "        [ 0.0119,  0.0164, -0.0269,  ...,  0.0322, -0.0260,  0.0269],\n",
      "        [ 0.0005,  0.0107,  0.0128,  ..., -0.0094, -0.0275, -0.0166]],\n",
      "       requires_grad=True)\n",
      "Gradient - tensor([[ 0.0000,  0.0000,  0.0000,  ...,  0.0001,  0.0000,  0.0000],\n",
      "        [ 0.0003,  0.0003,  0.0003,  ...,  0.0004,  0.0003,  0.0003],\n",
      "        [ 0.0004,  0.0004,  0.0004,  ...,  0.0003,  0.0004,  0.0004],\n",
      "        ...,\n",
      "        [-0.0001, -0.0001, -0.0001,  ..., -0.0002, -0.0002, -0.0001],\n",
      "        [-0.0001, -0.0001, -0.0001,  ..., -0.0001, -0.0001, -0.0001],\n",
      "        [ 0.0000,  0.0000,  0.0000,  ...,  0.0000,  0.0000,  0.0000]])\n",
      "Updated weights -  Parameter containing:\n",
      "tensor([[ 0.0064, -0.0215, -0.0141,  ...,  0.0147,  0.0323,  0.0239],\n",
      "        [ 0.0289, -0.0218, -0.0105,  ...,  0.0139, -0.0128, -0.0131],\n",
      "        [ 0.0150, -0.0186, -0.0225,  ...,  0.0180,  0.0054, -0.0242],\n",
      "        ...,\n",
      "        [-0.0294,  0.0351, -0.0192,  ...,  0.0015,  0.0073, -0.0084],\n",
      "        [ 0.0119,  0.0164, -0.0269,  ...,  0.0322, -0.0260,  0.0269],\n",
      "        [ 0.0005,  0.0107,  0.0128,  ..., -0.0094, -0.0275, -0.0166]],\n",
      "       requires_grad=True)\n"
     ]
    }
   ],
   "source": [
    "print('Initial weights - ', model.fc1.weight)\n",
    "\n",
    "images, labels = next(iter(trainloader))\n",
    "\n",
    "images.resize_(64, 784)\n",
    "\n",
    "# Clear the gradients, do this because gradients are accumulated\n",
    "optimizer.zero_grad()\n",
    "\n",
    "# Forward pass, then backward pass, then update weights\n",
    "output = model.forward(images)\n",
    "loss = criterion(output, labels)\n",
    "loss.backward()\n",
    "print('Gradient -', model.fc1.weight.grad)\n",
    "optimizer.step()\n",
    "print('Updated weights - ', model.fc1.weight)"
   ]
  },
  {
   "cell_type": "markdown",
   "metadata": {},
   "source": [
    "# Train the network\n",
    "\n",
    "Now you should create your network and train it. First you'll want to define [the criterion](http://pytorch.org/docs/master/nn.html#loss-functions) ( something like `nn.CrossEntropyLoss`) and [the optimizer](http://pytorch.org/docs/master/optim.html) (typically `optim.SGD` or `optim.Adam`).\n",
    "\n",
    "Then write the training code. Remember the training pass is a fairly straightforward process:\n",
    "\n",
    "* Make a forward pass through the network to get the logits \n",
    "* Use the logits to calculate the loss\n",
    "* Perform a backward pass through the network with `loss.backward()` to calculate the gradients\n",
    "* Take a step with the optimizer to update the weights\n",
    "\n",
    "By adjusting the hyperparameters (hidden units, learning rate, etc), you should be able to get the training loss below 0.4."
   ]
  },
  {
   "cell_type": "code",
   "execution_count": 6,
   "metadata": {},
   "outputs": [],
   "source": [
    "# TODO: Create the network, define the criterion and optimizer\n",
    "optimizer = optim.SGD(model.parameters(), lr=0.075)\n"
   ]
  },
  {
   "cell_type": "code",
   "execution_count": 7,
   "metadata": {},
   "outputs": [
    {
     "data": {
      "text/plain": [
       "tensor([[-0.0033, -0.0070, -0.0066,  ..., -0.0044, -0.0004,  0.0005],\n",
       "        [-0.0004,  0.0006,  0.0115,  ..., -0.0043,  0.0004,  0.0016],\n",
       "        [-0.0095,  0.0006, -0.0175,  ..., -0.0037,  0.0097, -0.0124],\n",
       "        ...,\n",
       "        [ 0.0060, -0.0099,  0.0056,  ...,  0.0168,  0.0054, -0.0193],\n",
       "        [-0.0018, -0.0044,  0.0047,  ...,  0.0070, -0.0056, -0.0061],\n",
       "        [-0.0043, -0.0124,  0.0132,  ..., -0.0165, -0.0097,  0.0046]])"
      ]
     },
     "execution_count": 7,
     "metadata": {},
     "output_type": "execute_result"
    }
   ],
   "source": [
    "model.fc1.weight.data.normal_(std=0.01)\n",
    "model.fc2.weight.data.normal_(std=0.01)\n",
    "model.fc3.weight.data.normal_(std=0.01)\n",
    "model.fc3.weight.data.normal_(std=0.01)"
   ]
  },
  {
   "cell_type": "code",
   "execution_count": 8,
   "metadata": {},
   "outputs": [
    {
     "name": "stdout",
     "output_type": "stream",
     "text": [
      "Epoch: 1/8...  Loss: 2.3097\n",
      "Epoch: 1/8...  Loss: 2.3036\n",
      "Epoch: 1/8...  Loss: 2.3018\n",
      "Epoch: 1/8...  Loss: 2.3012\n",
      "Epoch: 1/8...  Loss: 2.3024\n",
      "Epoch: 1/8...  Loss: 2.3003\n",
      "Epoch: 1/8...  Loss: 2.2968\n",
      "Epoch: 1/8...  Loss: 2.2852\n",
      "Epoch: 1/8...  Loss: 2.1951\n",
      "Epoch: 1/8...  Loss: 1.8916\n",
      "Epoch: 1/8...  Loss: 1.7065\n",
      "Epoch: 1/8...  Loss: 1.6396\n",
      "Epoch: 1/8...  Loss: 1.6237\n",
      "Epoch: 1/8...  Loss: 1.5107\n",
      "Epoch: 1/8...  Loss: 1.4157\n",
      "Epoch: 1/8...  Loss: 1.3320\n",
      "Epoch: 1/8...  Loss: 1.3114\n",
      "Epoch: 1/8...  Loss: 1.2328\n",
      "Epoch: 1/8...  Loss: 1.0452\n",
      "Epoch: 1/8...  Loss: 1.0004\n",
      "Epoch: 1/8...  Loss: 0.9236\n",
      "Epoch: 1/8...  Loss: 0.9399\n",
      "Epoch: 1/8...  Loss: 0.8362\n",
      "Epoch: 2/8...  Loss: 0.4954\n",
      "Epoch: 2/8...  Loss: 0.8351\n",
      "Epoch: 2/8...  Loss: 0.7957\n",
      "Epoch: 2/8...  Loss: 0.8389\n",
      "Epoch: 2/8...  Loss: 0.7197\n",
      "Epoch: 2/8...  Loss: 0.7476\n",
      "Epoch: 2/8...  Loss: 0.7376\n",
      "Epoch: 2/8...  Loss: 0.6881\n",
      "Epoch: 2/8...  Loss: 0.6775\n",
      "Epoch: 2/8...  Loss: 0.6431\n",
      "Epoch: 2/8...  Loss: 0.7005\n",
      "Epoch: 2/8...  Loss: 0.6644\n",
      "Epoch: 2/8...  Loss: 0.6405\n",
      "Epoch: 2/8...  Loss: 0.6448\n",
      "Epoch: 2/8...  Loss: 0.6154\n",
      "Epoch: 2/8...  Loss: 0.6087\n",
      "Epoch: 2/8...  Loss: 0.5802\n",
      "Epoch: 2/8...  Loss: 0.5842\n",
      "Epoch: 2/8...  Loss: 0.5808\n",
      "Epoch: 2/8...  Loss: 0.5963\n",
      "Epoch: 2/8...  Loss: 0.5438\n",
      "Epoch: 2/8...  Loss: 0.6165\n",
      "Epoch: 2/8...  Loss: 0.5419\n",
      "Epoch: 3/8...  Loss: 0.0474\n",
      "Epoch: 3/8...  Loss: 0.5582\n",
      "Epoch: 3/8...  Loss: 0.5141\n",
      "Epoch: 3/8...  Loss: 0.5468\n",
      "Epoch: 3/8...  Loss: 0.5082\n",
      "Epoch: 3/8...  Loss: 0.4845\n",
      "Epoch: 3/8...  Loss: 0.5101\n",
      "Epoch: 3/8...  Loss: 0.5967\n",
      "Epoch: 3/8...  Loss: 0.5030\n",
      "Epoch: 3/8...  Loss: 0.5086\n",
      "Epoch: 3/8...  Loss: 0.4793\n",
      "Epoch: 3/8...  Loss: 0.4903\n",
      "Epoch: 3/8...  Loss: 0.5046\n",
      "Epoch: 3/8...  Loss: 0.5328\n",
      "Epoch: 3/8...  Loss: 0.4949\n",
      "Epoch: 3/8...  Loss: 0.4747\n",
      "Epoch: 3/8...  Loss: 0.4751\n",
      "Epoch: 3/8...  Loss: 0.4750\n",
      "Epoch: 3/8...  Loss: 0.4860\n",
      "Epoch: 3/8...  Loss: 0.4614\n",
      "Epoch: 3/8...  Loss: 0.4928\n",
      "Epoch: 3/8...  Loss: 0.4364\n",
      "Epoch: 3/8...  Loss: 0.4918\n",
      "Epoch: 3/8...  Loss: 0.4330\n",
      "Epoch: 4/8...  Loss: 0.2877\n",
      "Epoch: 4/8...  Loss: 0.4520\n",
      "Epoch: 4/8...  Loss: 0.4117\n",
      "Epoch: 4/8...  Loss: 0.4212\n",
      "Epoch: 4/8...  Loss: 0.4451\n",
      "Epoch: 4/8...  Loss: 0.4330\n",
      "Epoch: 4/8...  Loss: 0.4183\n",
      "Epoch: 4/8...  Loss: 0.4289\n",
      "Epoch: 4/8...  Loss: 0.4608\n",
      "Epoch: 4/8...  Loss: 0.4244\n",
      "Epoch: 4/8...  Loss: 0.4222\n",
      "Epoch: 4/8...  Loss: 0.4083\n",
      "Epoch: 4/8...  Loss: 0.4023\n",
      "Epoch: 4/8...  Loss: 0.4460\n",
      "Epoch: 4/8...  Loss: 0.4263\n",
      "Epoch: 4/8...  Loss: 0.3937\n",
      "Epoch: 4/8...  Loss: 0.4510\n",
      "Epoch: 4/8...  Loss: 0.4049\n",
      "Epoch: 4/8...  Loss: 0.4141\n",
      "Epoch: 4/8...  Loss: 0.4092\n",
      "Epoch: 4/8...  Loss: 0.4050\n",
      "Epoch: 4/8...  Loss: 0.3852\n",
      "Epoch: 4/8...  Loss: 0.4109\n",
      "Epoch: 5/8...  Loss: 0.0718\n",
      "Epoch: 5/8...  Loss: 0.3742\n",
      "Epoch: 5/8...  Loss: 0.3814\n",
      "Epoch: 5/8...  Loss: 0.3823\n",
      "Epoch: 5/8...  Loss: 0.3988\n",
      "Epoch: 5/8...  Loss: 0.3603\n",
      "Epoch: 5/8...  Loss: 0.3877\n",
      "Epoch: 5/8...  Loss: 0.3880\n",
      "Epoch: 5/8...  Loss: 0.3623\n",
      "Epoch: 5/8...  Loss: 0.3825\n",
      "Epoch: 5/8...  Loss: 0.3881\n",
      "Epoch: 5/8...  Loss: 0.3857\n",
      "Epoch: 5/8...  Loss: 0.3863\n",
      "Epoch: 5/8...  Loss: 0.3937\n",
      "Epoch: 5/8...  Loss: 0.3799\n",
      "Epoch: 5/8...  Loss: 0.3923\n",
      "Epoch: 5/8...  Loss: 0.3653\n",
      "Epoch: 5/8...  Loss: 0.3800\n",
      "Epoch: 5/8...  Loss: 0.3414\n",
      "Epoch: 5/8...  Loss: 0.3741\n",
      "Epoch: 5/8...  Loss: 0.3581\n",
      "Epoch: 5/8...  Loss: 0.3853\n",
      "Epoch: 5/8...  Loss: 0.3655\n",
      "Epoch: 5/8...  Loss: 0.3856\n",
      "Epoch: 6/8...  Loss: 0.2830\n",
      "Epoch: 6/8...  Loss: 0.3499\n",
      "Epoch: 6/8...  Loss: 0.3541\n",
      "Epoch: 6/8...  Loss: 0.3375\n",
      "Epoch: 6/8...  Loss: 0.3476\n",
      "Epoch: 6/8...  Loss: 0.3770\n",
      "Epoch: 6/8...  Loss: 0.3338\n",
      "Epoch: 6/8...  Loss: 0.3496\n",
      "Epoch: 6/8...  Loss: 0.3193\n",
      "Epoch: 6/8...  Loss: 0.3697\n",
      "Epoch: 6/8...  Loss: 0.3358\n",
      "Epoch: 6/8...  Loss: 0.3394\n",
      "Epoch: 6/8...  Loss: 0.3545\n",
      "Epoch: 6/8...  Loss: 0.3330\n",
      "Epoch: 6/8...  Loss: 0.3704\n",
      "Epoch: 6/8...  Loss: 0.3397\n",
      "Epoch: 6/8...  Loss: 0.3620\n",
      "Epoch: 6/8...  Loss: 0.3071\n",
      "Epoch: 6/8...  Loss: 0.3540\n",
      "Epoch: 6/8...  Loss: 0.3307\n",
      "Epoch: 6/8...  Loss: 0.3566\n",
      "Epoch: 6/8...  Loss: 0.3549\n",
      "Epoch: 6/8...  Loss: 0.3124\n",
      "Epoch: 7/8...  Loss: 0.1075\n",
      "Epoch: 7/8...  Loss: 0.3244\n",
      "Epoch: 7/8...  Loss: 0.3037\n",
      "Epoch: 7/8...  Loss: 0.3407\n",
      "Epoch: 7/8...  Loss: 0.3214\n",
      "Epoch: 7/8...  Loss: 0.3281\n",
      "Epoch: 7/8...  Loss: 0.3149\n",
      "Epoch: 7/8...  Loss: 0.3174\n",
      "Epoch: 7/8...  Loss: 0.3364\n",
      "Epoch: 7/8...  Loss: 0.3332\n",
      "Epoch: 7/8...  Loss: 0.3542\n",
      "Epoch: 7/8...  Loss: 0.3451\n",
      "Epoch: 7/8...  Loss: 0.3319\n",
      "Epoch: 7/8...  Loss: 0.3102\n",
      "Epoch: 7/8...  Loss: 0.3590\n",
      "Epoch: 7/8...  Loss: 0.3018\n",
      "Epoch: 7/8...  Loss: 0.3101\n",
      "Epoch: 7/8...  Loss: 0.3342\n",
      "Epoch: 7/8...  Loss: 0.3244\n",
      "Epoch: 7/8...  Loss: 0.3087\n",
      "Epoch: 7/8...  Loss: 0.3354\n",
      "Epoch: 7/8...  Loss: 0.3526\n",
      "Epoch: 7/8...  Loss: 0.3613\n",
      "Epoch: 7/8...  Loss: 0.3124\n",
      "Epoch: 8/8...  Loss: 0.2794\n",
      "Epoch: 8/8...  Loss: 0.2937\n",
      "Epoch: 8/8...  Loss: 0.3302\n",
      "Epoch: 8/8...  Loss: 0.2753\n",
      "Epoch: 8/8...  Loss: 0.3267\n",
      "Epoch: 8/8...  Loss: 0.3034\n",
      "Epoch: 8/8...  Loss: 0.3124\n",
      "Epoch: 8/8...  Loss: 0.3245\n",
      "Epoch: 8/8...  Loss: 0.3234\n",
      "Epoch: 8/8...  Loss: 0.2912\n",
      "Epoch: 8/8...  Loss: 0.3091\n",
      "Epoch: 8/8...  Loss: 0.3274\n",
      "Epoch: 8/8...  Loss: 0.3522\n",
      "Epoch: 8/8...  Loss: 0.3110\n",
      "Epoch: 8/8...  Loss: 0.3104\n",
      "Epoch: 8/8...  Loss: 0.2982\n",
      "Epoch: 8/8...  Loss: 0.2996\n",
      "Epoch: 8/8...  Loss: 0.2774\n",
      "Epoch: 8/8...  Loss: 0.3256\n",
      "Epoch: 8/8...  Loss: 0.3018\n",
      "Epoch: 8/8...  Loss: 0.3196\n",
      "Epoch: 8/8...  Loss: 0.2931\n",
      "Epoch: 8/8...  Loss: 0.2940\n"
     ]
    }
   ],
   "source": [
    "# TODO: Train the network here\n",
    "epochs = 8\n",
    "print_every = 40\n",
    "steps = 0\n",
    "for e in range(epochs):\n",
    "    running_loss = 0\n",
    "    for images, labels in iter(trainloader):\n",
    "        steps += 1\n",
    "        # Flatten MNIST images into a 784 long vector\n",
    "        images.resize_(images.size()[0], 784)\n",
    "        \n",
    "        optimizer.zero_grad()\n",
    "        \n",
    "        # Forward and backward passes\n",
    "        output = model.forward(images)\n",
    "        loss = criterion(output, labels)\n",
    "        loss.backward()\n",
    "        optimizer.step()\n",
    "        \n",
    "        running_loss += loss.item()\n",
    "        \n",
    "        if steps % print_every == 0:\n",
    "            print(\"Epoch: {}/{}... \".format(e+1, epochs),\n",
    "                  \"Loss: {:.4f}\".format(running_loss/print_every))\n",
    "            \n",
    "            running_loss = 0\n"
   ]
  },
  {
   "cell_type": "code",
   "execution_count": 36,
   "metadata": {},
   "outputs": [
    {
     "name": "stdout",
     "output_type": "stream",
     "text": [
      "tensor(7)\n"
     ]
    },
    {
     "name": "stderr",
     "output_type": "stream",
     "text": [
      "C:\\Users\\jdmcd\\Anaconda3\\lib\\site-packages\\ipykernel_launcher.py:14: UserWarning: Implicit dimension choice for softmax has been deprecated. Change the call to include dim=X as an argument.\n",
      "  \n"
     ]
    },
    {
     "data": {
      "image/png": "[encoded data removed]",
      "text/plain": [
       "<Figure size 432x648 with 2 Axes>"
      ]
     },
     "metadata": {
      "image/png": {
       "height": 204,
       "width": 423
      }
     },
     "output_type": "display_data"
    }
   ],
   "source": [
    "# Test out your network!\n",
    "\n",
    "dataiter = iter(testloader)\n",
    "images, labels = dataiter.next()\n",
    "print(labels[0])\n",
    "img = images[0]\n",
    "# Convert 2D image to 1D vector\n",
    "img = img.resize_(1, 784)\n",
    "\n",
    "with torch.no_grad():\n",
    "    logits = model.forward(img)\n",
    "\n",
    "# TODO: Calculate the class probabilities (softmax) for img\n",
    "ps = F.softmax(logits)\n",
    "\n",
    "# Plot the image and probabilities\n",
    "helper.view_classify(img.resize_(1, 28, 28), ps, version='Fashion')"
   ]
  },
  {
   "cell_type": "markdown",
   "metadata": {},
   "source": [
    "Now that your network is trained, you'll want to save it to disk so you can load it later instead of training it again. Obviously, it's impractical to train a network every time you need one. In practice, you'll train it once, save the model, then reload it for further training or making predictions. In the next part, I'll show you how to save and load trained models."
   ]
  },
  {
   "cell_type": "code",
   "execution_count": null,
   "metadata": {},
   "outputs": [],
   "source": []
  }
 ],
 "metadata": {
  "kernelspec": {
   "display_name": "Python 3",
   "language": "python",
   "name": "python3"
  },
  "language_info": {
   "codemirror_mode": {
    "name": "ipython",
    "version": 3
   },
   "file_extension": ".py",
   "mimetype": "text/x-python",
   "name": "python",
   "nbconvert_exporter": "python",
   "pygments_lexer": "ipython3",
   "version": "3.6.5"
  }
 },
 "nbformat": 4,
 "nbformat_minor": 2
}
